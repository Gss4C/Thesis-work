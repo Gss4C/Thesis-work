{
 "cells": [
  {
   "cell_type": "code",
   "execution_count": 2,
   "metadata": {},
   "outputs": [],
   "source": [
    "def read_and_list(path_to_txtfile):\n",
    "    '''\n",
    "    input to a txt file containing a column and output a strings list\n",
    "    '''\n",
    "    lista_file = []\n",
    "    with open(path_to_txtfile, \"r\") as file:\n",
    "        for riga in file:\n",
    "            riga = riga.strip()  # Rimuovi eventuali spazi o caratteri di newline alla fine della riga\n",
    "            lista_file.append(riga)\n",
    "    return lista_file"
   ]
  },
  {
   "cell_type": "code",
   "execution_count": 3,
   "metadata": {},
   "outputs": [
    {
     "name": "stdout",
     "output_type": "stream",
     "text": [
      "['stocazzo', 'aiuto.txt', 'aiuto.root', 'cosa vuoi', 'deficiente, favfx']\n"
     ]
    }
   ],
   "source": [
    "A = read_and_list(\"elencone.txt\")\n",
    "print(A)"
   ]
  },
  {
   "cell_type": "code",
   "execution_count": null,
   "metadata": {},
   "outputs": [],
   "source": [
    "testing_dict = {\n",
    "    \"numeri\": [5,19,7,11], \n",
    "    \"lettere\": {\n",
    "        \"vocali\": [\"a\", \"e\", \"i\"],\n",
    "        \"consonanti\": [\"AIUTOOOOO\", \"PYTHON MERDA\"] \n",
    "        },\n",
    "    \"mucche\": 55\n",
    "    }"
   ]
  },
  {
   "cell_type": "code",
   "execution_count": null,
   "metadata": {},
   "outputs": [
    {
     "data": {
      "text/plain": [
       "['a', 'e', 'i']"
      ]
     },
     "execution_count": 7,
     "metadata": {},
     "output_type": "execute_result"
    }
   ],
   "source": [
    "testing_dict[\"lettere\"][\"vocali\"]"
   ]
  },
  {
   "cell_type": "code",
   "execution_count": 8,
   "metadata": {},
   "outputs": [
    {
     "name": "stdout",
     "output_type": "stream",
     "text": [
      "{'numeri': [5, 19, 7, 11], 'lettere': {'vocali': ['a', 'e', 'i'], 'consonanti': ['AIUTOOOOO', 'PYTHON MERDA']}, 'mucche': 55}\n"
     ]
    }
   ],
   "source": [
    "import json\n",
    "\n",
    "def leggi_file_json(nome_file):\n",
    "    with open(nome_file, \"r\") as file:\n",
    "        contenuto = file.read()\n",
    "        dizionario = json.loads(contenuto)\n",
    "        return dizionario\n",
    "\n",
    "# Esempio di utilizzo:\n",
    "nome_file = \"stodict.json\"  # Sostituisci con il nome del tuo file JSON\n",
    "dizionario = leggi_file_json(nome_file)\n",
    "print(dizionario)"
   ]
  },
  {
   "cell_type": "code",
   "execution_count": 11,
   "metadata": {},
   "outputs": [
    {
     "data": {
      "text/plain": [
       "7"
      ]
     },
     "execution_count": 11,
     "metadata": {},
     "output_type": "execute_result"
    }
   ],
   "source": [
    "dizionario[\"numeri\"][2]"
   ]
  },
  {
   "cell_type": "code",
   "execution_count": null,
   "metadata": {},
   "outputs": [],
   "source": []
  }
 ],
 "metadata": {
  "kernelspec": {
   "display_name": "base",
   "language": "python",
   "name": "python3"
  },
  "language_info": {
   "codemirror_mode": {
    "name": "ipython",
    "version": 3
   },
   "file_extension": ".py",
   "mimetype": "text/x-python",
   "name": "python",
   "nbconvert_exporter": "python",
   "pygments_lexer": "ipython3",
   "version": "3.9.12"
  },
  "orig_nbformat": 4
 },
 "nbformat": 4,
 "nbformat_minor": 2
}
